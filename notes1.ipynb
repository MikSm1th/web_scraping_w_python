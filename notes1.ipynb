{
 "metadata": {
  "language_info": {
   "codemirror_mode": {
    "name": "ipython",
    "version": 3
   },
   "file_extension": ".py",
   "mimetype": "text/x-python",
   "name": "python",
   "nbconvert_exporter": "python",
   "pygments_lexer": "ipython3",
   "version": "3.8.6-final"
  },
  "orig_nbformat": 2,
  "kernelspec": {
   "name": "python3",
   "display_name": "Python 3"
  }
 },
 "nbformat": 4,
 "nbformat_minor": 2,
 "cells": [
  {
   "source": [
    "import urllib.request as req"
   ],
   "cell_type": "code",
   "metadata": {},
   "execution_count": 1,
   "outputs": []
  },
  {
   "cell_type": "code",
   "execution_count": 2,
   "metadata": {},
   "outputs": [],
   "source": [
    "import os"
   ]
  },
  {
   "cell_type": "code",
   "execution_count": 3,
   "metadata": {},
   "outputs": [],
   "source": [
    "content = req.urlopen('https://www.samsclub.com/robots.txt').read()"
   ]
  },
  {
   "cell_type": "code",
   "execution_count": 4,
   "metadata": {},
   "outputs": [],
   "source": [
    "file = open(os.getcwd() + os.sep+\"contents\"+os.sep+\"robots.txt\", \"wb\")\n",
    "file.write(content)\n",
    "file.close()"
   ]
  },
  {
   "cell_type": "code",
   "execution_count": 5,
   "metadata": {},
   "outputs": [],
   "source": [
    "link = \"https://www.samsclub.com/sitemap.xml\"\n",
    "import requests\n",
    "content = requests.get(link).content\n",
    "file = open(os.getcwd()+os.sep+\"contents\"+os.sep+\"sitemap.xml\", \"wb\")\n",
    "file.write(content)\n",
    "file.close()"
   ]
  },
  {
   "cell_type": "code",
   "execution_count": 6,
   "metadata": {},
   "outputs": [],
   "source": [
    "content = requests.get(link).text"
   ]
  },
  {
   "cell_type": "code",
   "execution_count": 7,
   "metadata": {},
   "outputs": [
    {
     "output_type": "execute_result",
     "data": {
      "text/plain": [
       "'<?xml version=\"1.0\" encoding=\"UTF-8\"?>\\n<sitemapindex xmlns=\"http://www.sitemaps.org/schemas/sitemap/0.9\">\\n<sitemap><loc>https://www.samsclub.com/sitemap_categories.xml</loc></sitemap>\\n<sitemap><loc>https://www.samsclub.com/sitemap_products_1.xml</loc></sitemap>\\n<sitemap><loc>https://www.samsclub.com/sitemap_products_2.xml</loc></sitemap>\\n<sitemap><loc>https://www.samsclub.com/sitemap_locators.xml</loc></sitemap>\\n</sitemapindex>'"
      ]
     },
     "metadata": {},
     "execution_count": 7
    }
   ],
   "source": [
    "content"
   ]
  },
  {
   "cell_type": "code",
   "execution_count": 8,
   "metadata": {},
   "outputs": [],
   "source": [
    "content = requests.get(link).content"
   ]
  },
  {
   "cell_type": "code",
   "execution_count": 9,
   "metadata": {},
   "outputs": [
    {
     "output_type": "execute_result",
     "data": {
      "text/plain": [
       "'<?xml version=\"1.0\" encoding=\"UTF-8\"?>\\n<sitemapindex xmlns=\"http://www.sitemaps.org/schemas/sitemap/0.9\">\\n<sitemap><loc>https://www.samsclub.com/sitemap_categories.xml</loc></sitemap>\\n<sitemap><loc>https://www.samsclub.com/sitemap_products_1.xml</loc></sitemap>\\n<sitemap><loc>https://www.samsclub.com/sitemap_products_2.xml</loc></sitemap>\\n<sitemap><loc>https://www.samsclub.com/sitemap_locators.xml</loc></sitemap>\\n</sitemapindex>'"
      ]
     },
     "metadata": {},
     "execution_count": 9
    }
   ],
   "source": [
    "content.decode('utf-8')"
   ]
  },
  {
   "cell_type": "code",
   "execution_count": null,
   "metadata": {},
   "outputs": [],
   "source": []
  }
 ]
}