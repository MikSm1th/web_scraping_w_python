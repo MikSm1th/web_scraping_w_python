{
 "metadata": {
  "language_info": {
   "codemirror_mode": {
    "name": "ipython",
    "version": 3
   },
   "file_extension": ".py",
   "mimetype": "text/x-python",
   "name": "python",
   "nbconvert_exporter": "python",
   "pygments_lexer": "ipython3",
   "version": "3.8.6-final"
  },
  "orig_nbformat": 2,
  "kernelspec": {
   "name": "python3",
   "display_name": "Python 3"
  }
 },
 "nbformat": 4,
 "nbformat_minor": 2,
 "cells": [
  {
   "source": [
    "from lxml import etree"
   ],
   "cell_type": "code",
   "metadata": {},
   "execution_count": 2,
   "outputs": []
  },
  {
   "cell_type": "code",
   "execution_count": 3,
   "metadata": {},
   "outputs": [],
   "source": [
    "xml = open(\"contents/food.xml\", \"rb\").read()  # open and read XML file"
   ]
  },
  {
   "cell_type": "code",
   "execution_count": 4,
   "metadata": {},
   "outputs": [],
   "source": [
    "tree = etree.XML(xml)"
   ]
  },
  {
   "cell_type": "code",
   "execution_count": 5,
   "metadata": {},
   "outputs": [
    {
     "output_type": "stream",
     "name": "stdout",
     "text": [
      "<Element menus at 0x7f08040680c0>\n"
     ]
    }
   ],
   "source": [
    "print(tree)"
   ]
  },
  {
   "cell_type": "code",
   "execution_count": 6,
   "metadata": {},
   "outputs": [
    {
     "output_type": "stream",
     "name": "stdout",
     "text": [
      "<class 'lxml.etree._Element'>\n"
     ]
    }
   ],
   "source": [
    "print(type(tree))"
   ]
  },
  {
   "cell_type": "code",
   "execution_count": 7,
   "metadata": {},
   "outputs": [
    {
     "output_type": "stream",
     "name": "stdout",
     "text": [
      "menus - \n  \nfood - \n    \nname - Butter Milk with Vanilla\nprice - $3.99\ndescription - Rich tangy buttermilk with vanilla essence\nrating - 5.0\nfeedback - 6\nfood - \n    \nname - Fish and Chips\nprice - $4.99\ndescription - Crispy fried Chips and Fish served with lemon and malt vinegar\nrating - 5.0\nfeedback - 10\nfood - \n    \nname - Egg Roll\nprice - $3.99\ndescription - Fresh egg rolls filled with ground chicken, carrot, cabbage\nrating - 4.0\nfeedback - 8\nfood - \n    \nname - Pineapple Cake\nprice - $3.99\ndescription - Crushed Pineapple mixed with vanilla, eggs and lemon juice\nrating - 5.0\nfeedback - 9\nfood - \n    \nname - Eggs and Bacon\nprice - $5.50\ndescription - Served with rice and fresh fruit\nrating - 4.5\nfeedback - 4\nfood - \n    \nname - Orange Juice\nprice - $2.99\ndescription - Fresh Orange juice served\nrating - 4.9\nfeedback - 10\n"
     ]
    }
   ],
   "source": [
    "for element in tree.iter():\n",
    "    print(\"%s - %s\" % (element.tag, element.text))"
   ]
  },
  {
   "cell_type": "code",
   "execution_count": 8,
   "metadata": {},
   "outputs": [
    {
     "output_type": "stream",
     "name": "stdout",
     "text": [
      "name - Butter Milk with Vanilla\nprice - $3.99\nname - Fish and Chips\nprice - $4.99\nname - Egg Roll\nprice - $3.99\nname - Pineapple Cake\nprice - $3.99\nname - Eggs and Bacon\nprice - $5.50\nname - Orange Juice\nprice - $2.99\n"
     ]
    }
   ],
   "source": [
    "for element in tree.iter('price', 'name'):\n",
    "    print(\"%s - %s\" % (element.tag, element.text))"
   ]
  },
  {
   "cell_type": "code",
   "execution_count": 9,
   "metadata": {},
   "outputs": [],
   "source": [
    "tree = etree.parse(\"contents/food.xml\")"
   ]
  },
  {
   "cell_type": "code",
   "execution_count": 10,
   "metadata": {},
   "outputs": [
    {
     "output_type": "stream",
     "name": "stdout",
     "text": [
      "Butter Milk with Vanilla\nFish and Chips\nEgg Roll\nPineapple Cake\nEggs and Bacon\nOrange Juice\n"
     ]
    }
   ],
   "source": [
    "for element in tree.iter('name'):\n",
    "    print(element.text)"
   ]
  },
  {
   "cell_type": "code",
   "execution_count": 11,
   "metadata": {},
   "outputs": [
    {
     "output_type": "stream",
     "name": "stdout",
     "text": [
      "name - Butter Milk with Vanilla \n\nrating - 5.0 \n\nfeedback - 6 \n\nname - Fish and Chips \n\nrating - 5.0 \n\nfeedback - 10 \n\nname - Egg Roll \n\nrating - 4.0 \n\nfeedback - 8 \n\nname - Pineapple Cake \n\nrating - 5.0 \n\nfeedback - 9 \n\nname - Eggs and Bacon \n\nrating - 4.5 \n\nfeedback - 4 \n\nname - Orange Juice \n\nrating - 4.9 \n\nfeedback - 10 \n\n"
     ]
    }
   ],
   "source": [
    "for element in tree.iter('name', 'rating', 'feedback'):\n",
    "    print('{} - {} \\n'.format(element.tag, element.text))"
   ]
  },
  {
   "cell_type": "code",
   "execution_count": 12,
   "metadata": {},
   "outputs": [
    {
     "output_type": "stream",
     "name": "stdout",
     "text": [
      "<class 'lxml.html.HtmlElement'>\n<class 'lxml.etree._ElementTree'>\n"
     ]
    }
   ],
   "source": [
    "from lxml import html\n",
    "from urllib.request import urlopen\n",
    "\n",
    "root = html.parse(urlopen('http://httpbin.org/forms/post')).getroot()\n",
    "tree = html.parse(urlopen('http://httpbin.org/forms/post'))\n",
    "\n",
    "print(type(root))\n",
    "print(type(tree))"
   ]
  },
  {
   "cell_type": "code",
   "execution_count": 13,
   "metadata": {},
   "outputs": [
    {
     "output_type": "stream",
     "name": "stdout",
     "text": [
      "['__bool__', '__class__', '__contains__', '__copy__', '__deepcopy__', '__delattr__', '__delitem__', '__dict__', '__dir__', '__doc__', '__eq__', '__format__', '__ge__', '__getattribute__', '__getitem__', '__gt__', '__hash__', '__init__', '__init_subclass__', '__iter__', '__le__', '__len__', '__lt__', '__module__', '__ne__', '__new__', '__reduce__', '__reduce_ex__', '__repr__', '__reversed__', '__setattr__', '__setitem__', '__sizeof__', '__str__', '__subclasshook__', '__weakref__', '_init', 'addnext', 'addprevious', 'append', 'attrib', 'base', 'base_url', 'body', 'classes', 'clear', 'cssselect', 'drop_tag', 'drop_tree', 'extend', 'find', 'find_class', 'find_rel_links', 'findall', 'findtext', 'forms', 'get', 'get_element_by_id', 'getchildren', 'getiterator', 'getnext', 'getparent', 'getprevious', 'getroottree', 'head', 'index', 'insert', 'items', 'iter', 'iterancestors', 'iterchildren', 'iterdescendants', 'iterfind', 'iterlinks', 'itersiblings', 'itertext', 'keys', 'label', 'make_links_absolute', 'makeelement', 'nsmap', 'prefix', 'remove', 'replace', 'resolve_base_href', 'rewrite_links', 'set', 'sourceline', 'tag', 'tail', 'text', 'text_content', 'values', 'xpath']\n"
     ]
    }
   ],
   "source": [
    "print(dir(root))"
   ]
  },
  {
   "cell_type": "code",
   "execution_count": 14,
   "metadata": {},
   "outputs": [
    {
     "output_type": "stream",
     "name": "stdout",
     "text": [
      "Customer name: \nCustomer name: \n"
     ]
    }
   ],
   "source": [
    "p = root.find('.//p')\n",
    "\n",
    "print(p.text_content()) \n",
    "print(root.findtext('.//p/label'))"
   ]
  },
  {
   "cell_type": "code",
   "execution_count": 15,
   "metadata": {},
   "outputs": [
    {
     "output_type": "stream",
     "name": "stdout",
     "text": [
      "Customer name: \nTelephone: \nE-mail address: \n  Small \n  Medium \n  Large \n  Bacon \n  Extra Cheese \n  Onion \n  Mushroom \nPreferred delivery time: \nDelivery instructions: \nSubmit order\n"
     ]
    }
   ],
   "source": [
    "elemP = root.findall('.//p')\n",
    "for p in elemP:\n",
    "    print(p.text_content())"
   ]
  },
  {
   "cell_type": "code",
   "execution_count": 16,
   "metadata": {},
   "outputs": [
    {
     "output_type": "stream",
     "name": "stdout",
     "text": [
      "['small', 'medium', 'large', 'bacon', 'cheese', 'onion', 'mushroom']\n[' Pizza Size ', ' Pizza Toppings ']\n"
     ]
    }
   ],
   "source": [
    "print(root.xpath('//p/label/input/@value'))\n",
    "print(root.xpath('//legend/text()'))"
   ]
  },
  {
   "cell_type": "code",
   "execution_count": 17,
   "metadata": {},
   "outputs": [
    {
     "output_type": "stream",
     "name": "stdout",
     "text": [
      "Customer name: \nTelephone: \nE-mail address: \n  Small \n  Medium \n  Large \n  Bacon \n  Extra Cheese \n  Onion \n  Mushroom \nPreferred delivery time: \nDelivery instructions: \n"
     ]
    }
   ],
   "source": [
    "#print text_content() for lable inside <p>\n",
    "for e in root.cssselect('p label'):\n",
    "    print(e.text_content())"
   ]
  },
  {
   "cell_type": "code",
   "execution_count": 18,
   "metadata": {},
   "outputs": [
    {
     "output_type": "stream",
     "name": "stdout",
     "text": [
      "Customer name: \nTelephone: \nE-mail address: \nPreferred delivery time: \nDelivery instructions: \nSubmit order\n"
     ]
    }
   ],
   "source": [
    "for e in root.cssselect('form > p'):\n",
    "    print(e.text_content())"
   ]
  },
  {
   "cell_type": "code",
   "execution_count": 19,
   "metadata": {},
   "outputs": [
    {
     "output_type": "stream",
     "name": "stdout",
     "text": [
      "http://httpbin.org/post\n['method', 'action']\n[('method', 'post'), ('action', '/post')]\nPOST\n"
     ]
    }
   ],
   "source": [
    "print(root.forms[0].action)\n",
    "print(root.forms[0].keys())\n",
    "print(root.forms[0].items())\n",
    "print(root.forms[0].method)"
   ]
  },
  {
   "cell_type": "code",
   "execution_count": 20,
   "metadata": {},
   "outputs": [],
   "source": [
    "from lxml import html \n",
    "import requests\n",
    "response = requests.get('http://httpbin.org/forms/post')"
   ]
  },
  {
   "cell_type": "code",
   "execution_count": 21,
   "metadata": {},
   "outputs": [],
   "source": [
    "# build the DOM Tree\n",
    "tree = html.fromstring(response.text)"
   ]
  },
  {
   "cell_type": "code",
   "execution_count": 22,
   "metadata": {},
   "outputs": [
    {
     "output_type": "stream",
     "name": "stdout",
     "text": [
      "Element: input             \n\tvalues(): ['custname']             \n\tattrib: {'name': 'custname'}             \n\titems(): [('name', 'custname')]             \n\tkeys(): ['name']\n\n\nElement: input             \n\tvalues(): ['tel', 'custtel']             \n\tattrib: {'type': 'tel', 'name': 'custtel'}             \n\titems(): [('type', 'tel'), ('name', 'custtel')]             \n\tkeys(): ['type', 'name']\n\n\nElement: input             \n\tvalues(): ['email', 'custemail']             \n\tattrib: {'type': 'email', 'name': 'custemail'}             \n\titems(): [('type', 'email'), ('name', 'custemail')]             \n\tkeys(): ['type', 'name']\n\n\nElement: input             \n\tvalues(): ['radio', 'size', 'small']             \n\tattrib: {'type': 'radio', 'name': 'size', 'value': 'small'}             \n\titems(): [('type', 'radio'), ('name', 'size'), ('value', 'small')]             \n\tkeys(): ['type', 'name', 'value']\n\n\nElement: input             \n\tvalues(): ['radio', 'size', 'medium']             \n\tattrib: {'type': 'radio', 'name': 'size', 'value': 'medium'}             \n\titems(): [('type', 'radio'), ('name', 'size'), ('value', 'medium')]             \n\tkeys(): ['type', 'name', 'value']\n\n\nElement: input             \n\tvalues(): ['radio', 'size', 'large']             \n\tattrib: {'type': 'radio', 'name': 'size', 'value': 'large'}             \n\titems(): [('type', 'radio'), ('name', 'size'), ('value', 'large')]             \n\tkeys(): ['type', 'name', 'value']\n\n\nElement: input             \n\tvalues(): ['checkbox', 'topping', 'bacon']             \n\tattrib: {'type': 'checkbox', 'name': 'topping', 'value': 'bacon'}             \n\titems(): [('type', 'checkbox'), ('name', 'topping'), ('value', 'bacon')]             \n\tkeys(): ['type', 'name', 'value']\n\n\nElement: input             \n\tvalues(): ['checkbox', 'topping', 'cheese']             \n\tattrib: {'type': 'checkbox', 'name': 'topping', 'value': 'cheese'}             \n\titems(): [('type', 'checkbox'), ('name', 'topping'), ('value', 'cheese')]             \n\tkeys(): ['type', 'name', 'value']\n\n\nElement: input             \n\tvalues(): ['checkbox', 'topping', 'onion']             \n\tattrib: {'type': 'checkbox', 'name': 'topping', 'value': 'onion'}             \n\titems(): [('type', 'checkbox'), ('name', 'topping'), ('value', 'onion')]             \n\tkeys(): ['type', 'name', 'value']\n\n\nElement: input             \n\tvalues(): ['checkbox', 'topping', 'mushroom']             \n\tattrib: {'type': 'checkbox', 'name': 'topping', 'value': 'mushroom'}             \n\titems(): [('type', 'checkbox'), ('name', 'topping'), ('value', 'mushroom')]             \n\tkeys(): ['type', 'name', 'value']\n\n\nElement: input             \n\tvalues(): ['time', '11:00', '21:00', '900', 'delivery']             \n\tattrib: {'type': 'time', 'min': '11:00', 'max': '21:00', 'step': '900', 'name': 'delivery'}             \n\titems(): [('type', 'time'), ('min', '11:00'), ('max', '21:00'), ('step', '900'), ('name', 'delivery')]             \n\tkeys(): ['type', 'min', 'max', 'step', 'name']\n\n\n"
     ]
    }
   ],
   "source": [
    "for element in tree.iter('input'):\n",
    "    print(\"Element: %s \\\n",
    "            \\n\\tvalues(): %s \\\n",
    "            \\n\\tattrib: %s \\\n",
    "            \\n\\titems(): %s \\\n",
    "            \\n\\tkeys(): %s\" \\\n",
    "            % (element.tag, element.values(),\n",
    "            element.attrib, element.items(),\n",
    "            element.keys()))\n",
    "    print('\\n')"
   ]
  },
  {
   "cell_type": "code",
   "execution_count": 23,
   "metadata": {},
   "outputs": [],
   "source": [
    "import lxml.html\n",
    "musicUrl= \"http://books.toscrape.com/catalogue/category/books/music_14/index.html\"\n",
    "doc = lxml.html.parse(musicUrl)"
   ]
  },
  {
   "cell_type": "code",
   "execution_count": 24,
   "metadata": {},
   "outputs": [],
   "source": [
    "articles = doc.xpath(\"//*[@id='default']/div/div/div/div/section/div[2]/ol/li[1]/article\")[0]"
   ]
  },
  {
   "cell_type": "code",
   "execution_count": 25,
   "metadata": {},
   "outputs": [],
   "source": [
    "# individual element inside base\n",
    "title = articles.xpath('//h3/a/text()')\n",
    "price = articles.xpath('//div[2]/p[contains(@class, \"price_color\")]/text()')\n",
    "availabilty = articles.xpath(\"//div[2]/p[2][contains(@class, 'availability')]/text()[normalize-space()]\")\n",
    "imageUrl = articles.xpath('//div[1][contains(@class, \"image_container\")]/a/img/@src')\n",
    "starRating = articles.xpath('//p[contains(@class, \"star-rating\")]/@class')"
   ]
  },
  {
   "cell_type": "code",
   "execution_count": 26,
   "metadata": {},
   "outputs": [
    {
     "output_type": "stream",
     "name": "stdout",
     "text": [
      "['Rip it Up and ...', 'Our Band Could Be ...', 'How Music Works', 'Love Is a Mix ...', 'Please Kill Me: The ...', \"Kill 'Em and Leave: ...\", 'Chronicles, Vol. 1', 'This Is Your Brain ...', 'Orchestra of Exiles: The ...', 'No One Here Gets ...', 'Life', 'Old Records Never Die: ...', 'Forever Rockers (The Rocker ...']\n['£35.02', '£57.25', '£37.32', '£18.03', '£31.19', '£45.05', '£52.60', '£38.40', '£12.36', '£20.02', '£31.58', '£55.66', '£28.80']\n['In stock', 'In stock', 'In stock', 'In stock', 'In stock', 'In stock', 'In stock', 'In stock', 'In stock', 'In stock', 'In stock', 'In stock', 'In stock']\n['http://books.toscrape.com/media/cache/81/c4/81c4a973364e17d01f217e1188253d5e.jpg', 'http://books.toscrape.com/media/cache/54/60/54607fe8945897cdcced0044103b10b6.jpg', 'http://books.toscrape.com/media/cache/5c/c8/5cc8e107246cb478960d4f0aba1e1c8e.jpg', 'http://books.toscrape.com/media/cache/a2/6d/a26d8449abb3381e09126eda5f4e8151.jpg', 'http://books.toscrape.com/media/cache/06/f1/06f185c0be2ad6e2fe059464c03f1b47.jpg', 'http://books.toscrape.com/media/cache/85/42/8542841f5644a6daf433504f1e106e97.jpg', 'http://books.toscrape.com/media/cache/11/fc/11fc94453c4dc0d68543971d7843afb0.jpg', 'http://books.toscrape.com/media/cache/35/a4/35a4a7c6c76c4e82186753078e441654.jpg', 'http://books.toscrape.com/media/cache/15/de/15de75548ee9a4c6be1420ee309c03e0.jpg', 'http://books.toscrape.com/media/cache/7a/7e/7a7eb52e7075a5305522948375c1316e.jpg', 'http://books.toscrape.com/media/cache/99/97/9997eda658c2fe50e724171f9c2a2b0b.jpg', 'http://books.toscrape.com/media/cache/7e/94/7e947f3dd04f178175b85123829467a9.jpg', 'http://books.toscrape.com/media/cache/7f/b0/7fb03a053c270000667a50dd8d594843.jpg']\n['Five', 'Three', 'Two', 'One', 'Four', 'Five', 'Two', 'One', 'Three', 'Five', 'Five', 'Two', 'Three']\n"
     ]
    }
   ],
   "source": [
    "stock = list(map(lambda stock: stock.strip(), availabilty))\n",
    "images  = list(map(lambda img: img.replace('../../../..', 'http://books.toscrape.com'), imageUrl))\n",
    "rating = list(map(lambda rating: rating.replace('star-rating ', ''), starRating))\n",
    "\n",
    "print(title)\n",
    "print(price)\n",
    "print(stock)\n",
    "print(images)\n",
    "print(rating)"
   ]
  },
  {
   "cell_type": "code",
   "execution_count": 27,
   "metadata": {},
   "outputs": [
    {
     "output_type": "stream",
     "name": "stdout",
     "text": [
      "[('Rip it Up and ...', '£35.02', 'In stock', 'http://books.toscrape.com/media/cache/81/c4/81c4a973364e17d01f217e1188253d5e.jpg', 'Five'), ('Our Band Could Be ...', '£57.25', 'In stock', 'http://books.toscrape.com/media/cache/54/60/54607fe8945897cdcced0044103b10b6.jpg', 'Three'), ('How Music Works', '£37.32', 'In stock', 'http://books.toscrape.com/media/cache/5c/c8/5cc8e107246cb478960d4f0aba1e1c8e.jpg', 'Two'), ('Love Is a Mix ...', '£18.03', 'In stock', 'http://books.toscrape.com/media/cache/a2/6d/a26d8449abb3381e09126eda5f4e8151.jpg', 'One'), ('Please Kill Me: The ...', '£31.19', 'In stock', 'http://books.toscrape.com/media/cache/06/f1/06f185c0be2ad6e2fe059464c03f1b47.jpg', 'Four'), (\"Kill 'Em and Leave: ...\", '£45.05', 'In stock', 'http://books.toscrape.com/media/cache/85/42/8542841f5644a6daf433504f1e106e97.jpg', 'Five'), ('Chronicles, Vol. 1', '£52.60', 'In stock', 'http://books.toscrape.com/media/cache/11/fc/11fc94453c4dc0d68543971d7843afb0.jpg', 'Two'), ('This Is Your Brain ...', '£38.40', 'In stock', 'http://books.toscrape.com/media/cache/35/a4/35a4a7c6c76c4e82186753078e441654.jpg', 'One'), ('Orchestra of Exiles: The ...', '£12.36', 'In stock', 'http://books.toscrape.com/media/cache/15/de/15de75548ee9a4c6be1420ee309c03e0.jpg', 'Three'), ('No One Here Gets ...', '£20.02', 'In stock', 'http://books.toscrape.com/media/cache/7a/7e/7a7eb52e7075a5305522948375c1316e.jpg', 'Five'), ('Life', '£31.58', 'In stock', 'http://books.toscrape.com/media/cache/99/97/9997eda658c2fe50e724171f9c2a2b0b.jpg', 'Five'), ('Old Records Never Die: ...', '£55.66', 'In stock', 'http://books.toscrape.com/media/cache/7e/94/7e947f3dd04f178175b85123829467a9.jpg', 'Two'), ('Forever Rockers (The Rocker ...', '£28.80', 'In stock', 'http://books.toscrape.com/media/cache/7f/b0/7fb03a053c270000667a50dd8d594843.jpg', 'Three')]\n"
     ]
    }
   ],
   "source": [
    "dataSet = zip(title, price, stock, images, rating)\n",
    "print(list(dataSet))"
   ]
  },
  {
   "cell_type": "code",
   "execution_count": 28,
   "metadata": {},
   "outputs": [],
   "source": [
    "import lxml.html\n",
    "from lxml.etree import XPath\n",
    "\n",
    "baseUrl = \"http://books.toscrape.com/\"\n",
    "\n",
    "bookUrl = \"http://books.toscrape.com/catalogue/category/books/food-and-drink_33/index.html\"\n",
    "\n",
    "pageUrl = \"http://books.toscrape.com/catalogue/category/books/food-and-drink_33/page-\""
   ]
  },
  {
   "cell_type": "code",
   "execution_count": 29,
   "metadata": {
    "tags": []
   },
   "outputs": [
    {
     "output_type": "stream",
     "name": "stdout",
     "text": [
      "Rows in Dataset: 0\n",
      "30 Results, showing 20 Articles per page\n",
      "Scraping Page 1 of 2. NextPage > page-2.html\n",
      "[['Foolproof Preserving: A Guide ...', '£30.52', 'In stock', 'http://books.toscrape.com//media/cache/9f/59/9f59f01fa916a7bb8f0b28a4012179a4.jpg', ' Three'], ['The Pioneer Woman Cooks: ...', '£56.41', 'In stock', 'http://books.toscrape.com//media/cache/b7/f4/b7f4843dbe062d44be1ffcfa16b2faa4.jpg', ' One'], ['My Paris Kitchen: Recipes ...', '£33.37', 'In stock', 'http://books.toscrape.com//media/cache/f5/65/f565af3d9dd20a1ad72a1e7c4157387d.jpg', ' Two'], ['Mama Tried: Traditional Italian ...', '£14.02', 'In stock', 'http://books.toscrape.com//media/cache/10/c6/10c61093002db1fec4089d8076678624.jpg', ' Four'], ['Layered: Baking, Building, and ...', '£40.11', 'In stock', 'http://books.toscrape.com//media/cache/98/d1/98d1c979c4bac9e147a6718946578b0f.jpg', ' One'], ['The Nerdy Nummies Cookbook: ...', '£37.34', 'In stock', 'http://books.toscrape.com//media/cache/61/bd/61bdfe3950643c47d70c37c4123530f3.jpg', ' Five'], ['The Love and Lemons ...', '£37.60', 'In stock', 'http://books.toscrape.com//media/cache/0d/1f/0d1f3f934460f5a50aaa8c366641234c.jpg', ' Two'], ['The Cookies & Cups ...', '£41.25', 'In stock', 'http://books.toscrape.com//media/cache/54/89/54899b4584e941ceced511d81092c88a.jpg', ' One'], ['Deliciously Ella Every Day: ...', '£42.16', 'In stock', 'http://books.toscrape.com//media/cache/20/f2/20f28657b49f8cb24ed2ec6448bb6df3.jpg', ' Three'], ['The Help Yourself Cookbook ...', '£28.77', 'In stock', 'http://books.toscrape.com//media/cache/c4/dc/c4dcec6f513eaca3f0f3c748d834c46d.jpg', ' Three'], [\"It's All Easy: Healthy, ...\", '£19.55', 'In stock', 'http://books.toscrape.com//media/cache/fe/67/fe67c381d6a0c4c00a7c191d16939554.jpg', ' One'], ['Barefoot Contessa Back to ...', '£28.01', 'In stock', 'http://books.toscrape.com//media/cache/b8/38/b838b65e0e1ac3a9b498dfb1bf004420.jpg', ' One'], ['Barefoot Contessa at Home: ...', '£50.62', 'In stock', 'http://books.toscrape.com//media/cache/74/aa/74aa29b1ba4147eaf5b46671bf235861.jpg', ' Five'], ['My Kitchen Year: 136 ...', '£11.53', 'In stock', 'http://books.toscrape.com//media/cache/76/a1/76a1516c8d9c3e620626f30840013a85.jpg', ' Two'], ['Everyday Italian: 125 Simple ...', '£20.10', 'In stock', 'http://books.toscrape.com//media/cache/5a/64/5a6499d41ccaad4c4f7eeaa90e16345a.jpg', ' Five'], ['A la Mode: 120 ...', '£38.77', 'In stock', 'http://books.toscrape.com//media/cache/98/19/9819ff3a8290dc6ab8797d00de5ec554.jpg', ' One'], ['Cravings: Recipes for What ...', '£20.50', 'In stock', 'http://books.toscrape.com//media/cache/ae/5c/ae5ca435fb095e374d2c2aa9f7b6f380.jpg', ' Three'], ['The Moosewood Cookbook: Recipes ...', '£12.34', 'In stock', 'http://books.toscrape.com//media/cache/d4/53/d453cfb6c08dbf76d200ffa858bc9979.jpg', ' Four'], ['32 Yolks', '£53.63', 'In stock', 'http://books.toscrape.com//media/cache/1d/1f/1d1fbd89f0290275b9166877663ee9f5.jpg', ' Two'], ['Naturally Lean: 125 Nourishing ...', '£11.38', 'In stock', 'http://books.toscrape.com//media/cache/e6/b6/e6b66353f9325518994dd8b564290fd7.jpg', ' Five']]\n",
      "Rows in Dataset: 20\n",
      "Scraping Page 2 of 2\n",
      "[['Foolproof Preserving: A Guide ...', '£30.52', 'In stock', 'http://books.toscrape.com//media/cache/9f/59/9f59f01fa916a7bb8f0b28a4012179a4.jpg', ' Three'], ['The Pioneer Woman Cooks: ...', '£56.41', 'In stock', 'http://books.toscrape.com//media/cache/b7/f4/b7f4843dbe062d44be1ffcfa16b2faa4.jpg', ' One'], ['My Paris Kitchen: Recipes ...', '£33.37', 'In stock', 'http://books.toscrape.com//media/cache/f5/65/f565af3d9dd20a1ad72a1e7c4157387d.jpg', ' Two'], ['Mama Tried: Traditional Italian ...', '£14.02', 'In stock', 'http://books.toscrape.com//media/cache/10/c6/10c61093002db1fec4089d8076678624.jpg', ' Four'], ['Layered: Baking, Building, and ...', '£40.11', 'In stock', 'http://books.toscrape.com//media/cache/98/d1/98d1c979c4bac9e147a6718946578b0f.jpg', ' One'], ['The Nerdy Nummies Cookbook: ...', '£37.34', 'In stock', 'http://books.toscrape.com//media/cache/61/bd/61bdfe3950643c47d70c37c4123530f3.jpg', ' Five'], ['The Love and Lemons ...', '£37.60', 'In stock', 'http://books.toscrape.com//media/cache/0d/1f/0d1f3f934460f5a50aaa8c366641234c.jpg', ' Two'], ['The Cookies & Cups ...', '£41.25', 'In stock', 'http://books.toscrape.com//media/cache/54/89/54899b4584e941ceced511d81092c88a.jpg', ' One'], ['Deliciously Ella Every Day: ...', '£42.16', 'In stock', 'http://books.toscrape.com//media/cache/20/f2/20f28657b49f8cb24ed2ec6448bb6df3.jpg', ' Three'], ['The Help Yourself Cookbook ...', '£28.77', 'In stock', 'http://books.toscrape.com//media/cache/c4/dc/c4dcec6f513eaca3f0f3c748d834c46d.jpg', ' Three'], [\"It's All Easy: Healthy, ...\", '£19.55', 'In stock', 'http://books.toscrape.com//media/cache/fe/67/fe67c381d6a0c4c00a7c191d16939554.jpg', ' One'], ['Barefoot Contessa Back to ...', '£28.01', 'In stock', 'http://books.toscrape.com//media/cache/b8/38/b838b65e0e1ac3a9b498dfb1bf004420.jpg', ' One'], ['Barefoot Contessa at Home: ...', '£50.62', 'In stock', 'http://books.toscrape.com//media/cache/74/aa/74aa29b1ba4147eaf5b46671bf235861.jpg', ' Five'], ['My Kitchen Year: 136 ...', '£11.53', 'In stock', 'http://books.toscrape.com//media/cache/76/a1/76a1516c8d9c3e620626f30840013a85.jpg', ' Two'], ['Everyday Italian: 125 Simple ...', '£20.10', 'In stock', 'http://books.toscrape.com//media/cache/5a/64/5a6499d41ccaad4c4f7eeaa90e16345a.jpg', ' Five'], ['A la Mode: 120 ...', '£38.77', 'In stock', 'http://books.toscrape.com//media/cache/98/19/9819ff3a8290dc6ab8797d00de5ec554.jpg', ' One'], ['Cravings: Recipes for What ...', '£20.50', 'In stock', 'http://books.toscrape.com//media/cache/ae/5c/ae5ca435fb095e374d2c2aa9f7b6f380.jpg', ' Three'], ['The Moosewood Cookbook: Recipes ...', '£12.34', 'In stock', 'http://books.toscrape.com//media/cache/d4/53/d453cfb6c08dbf76d200ffa858bc9979.jpg', ' Four'], ['32 Yolks', '£53.63', 'In stock', 'http://books.toscrape.com//media/cache/1d/1f/1d1fbd89f0290275b9166877663ee9f5.jpg', ' Two'], ['Naturally Lean: 125 Nourishing ...', '£11.38', 'In stock', 'http://books.toscrape.com//media/cache/e6/b6/e6b66353f9325518994dd8b564290fd7.jpg', ' Five'], ['How to Cook Everything ...', '£46.01', 'In stock', 'http://books.toscrape.com//media/cache/59/2d/592dc2dee11b798780f5ae613b970a34.jpg', ' Four'], ['How to Be a ...', '£28.25', 'In stock', 'http://books.toscrape.com//media/cache/e2/5c/e25cbc27ebc12e47cdf3f7adc87cccdc.jpg', ' Two'], ['The Barefoot Contessa Cookbook', '£59.92', 'In stock', 'http://books.toscrape.com//media/cache/dd/07/dd07bd0c443756b9dc260813c1949b4f.jpg', ' Five'], ['Better Homes and Gardens ...', '£39.61', 'In stock', 'http://books.toscrape.com//media/cache/75/82/7582e20b84f603358a8d55cd6a0a50f4.jpg', ' Three'], ['The Power Greens Cookbook: ...', '£11.05', 'In stock', 'http://books.toscrape.com//media/cache/82/1d/821d2c02dcd0a10fc9d533917482746e.jpg', ' Five'], ['Mexican Today: New and ...', '£24.91', 'In stock', 'http://books.toscrape.com//media/cache/5d/02/5d029bff299cdb777e06f35800faa628.jpg', ' Five'], ['Vegan Vegetarian Omnivore: Dinner ...', '£13.66', 'In stock', 'http://books.toscrape.com//media/cache/80/63/80631f8bca036361343fdce528725654.jpg', ' Two'], ['The Smitten Kitchen Cookbook', '£23.59', 'In stock', 'http://books.toscrape.com//media/cache/8e/09/8e09faaea71886048b27959e607e6c7b.jpg', ' One'], ['The Art of Simple ...', '£34.32', 'In stock', 'http://books.toscrape.com//media/cache/96/57/9657c6d89024e343879a7b5512474f1e.jpg', ' Three'], ['Hungry Girl Clean & ...', '£33.14', 'In stock', 'http://books.toscrape.com//media/cache/6f/c4/6fc450625cd672e871a6176f74909be2.jpg', ' Three']]\n"
     ]
    }
   ],
   "source": [
    "dataSet = []\n",
    "page=1\n",
    "totalPages=1\n",
    "while(page<=totalPages):\n",
    "    print(\"Rows in Dataset: \"+str(len(dataSet)))\n",
    "    if(page==1):\n",
    "        doc = lxml.html.parse(pageUrl+str(page)+\".html\").getroot()\n",
    "        perPageArticles = doc.xpath(\"//*[@id=\\\"default\\\"]//form/strong[3]/text()\")\n",
    "        totalArticles = doc.xpath(\"//*[@id=\\\"default\\\"]//form/strong[1]/text()\")\n",
    "        totalPages = round(int(totalArticles[0])/int(perPageArticles[0]))\n",
    "        print(str(totalArticles[0])+\" Results, showing \"+str(perPageArticles[0])+\" Articles per page\")\n",
    "    else:\n",
    "        doc = lxml.html.parse(pageUrl+str(page)+\".html\").getroot()\n",
    "\n",
    "    #used to find page URL pattern\n",
    "    nextPage = doc.xpath(\"//*[@id=\\\"default\\\"]//ul[contains(@class,'pager')]/li[2]/a/@href\")\n",
    "    if len(nextPage)>0: \n",
    "        print(\"Scraping Page \"+str(page)+\" of \"+str(totalPages)+\". NextPage > \"+str(nextPage[0]))\n",
    "    else:\n",
    "        print(\"Scraping Page \"+str(page)+\" of \"+str(totalPages))\n",
    "\n",
    "    articles = XPath(\"//*[@id='default']//ol/li[position()>0]\")\n",
    "\n",
    "    titlePath = XPath(\".//article[contains(@class,'product_pod')]/h3/a/text()\")\n",
    "    pricePath = XPath(\".//article/div[2]/p[contains(@class,'price_color')]/text()\")\n",
    "    stockPath = XPath(\".//article/div[2]/p[2][contains(@class,'availability')]/text()[normalize-space()]\")\n",
    "    imagePath = XPath(\".//article/div[1][contains(@class,'image_container')]/a/img/@src\")\n",
    "    starRating = XPath(\".//article/p[contains(@class,'star-rating')]/@class\")\n",
    "\n",
    "    #looping through 'articles' found in 'doc' i.e each <li><article> found in Page Source\n",
    "    for row in articles(doc): \n",
    "        title = titlePath(row)[0]\n",
    "        price = pricePath(row)[0]\n",
    "        availability = stockPath(row)[0].strip()\n",
    "        image = imagePath(row)[0]\n",
    "        rating = starRating(row)[0]\n",
    "        \n",
    "        #cleaning and formatting applied to image and rating\n",
    "        dataSet.append([title,price,availability,image.replace('../../../..',baseUrl),rating.replace('star-rating','')])\n",
    "\n",
    "    page+=1 #updating Page Count for While loop\n",
    "\n",
    "    #Final Dataset with data from all pages. \n",
    "    print(dataSet)\n",
    "\n"
   ]
  },
  {
   "cell_type": "code",
   "execution_count": 30,
   "metadata": {},
   "outputs": [],
   "source": [
    "import pandas as pd\n",
    "df = pd.DataFrame(dataSet)"
   ]
  },
  {
   "cell_type": "code",
   "execution_count": 31,
   "metadata": {},
   "outputs": [
    {
     "output_type": "execute_result",
     "data": {
      "text/plain": [
       "                                        0       1         2  \\\n",
       "0       Foolproof Preserving: A Guide ...  £30.52  In stock   \n",
       "1            The Pioneer Woman Cooks: ...  £56.41  In stock   \n",
       "2           My Paris Kitchen: Recipes ...  £33.37  In stock   \n",
       "3     Mama Tried: Traditional Italian ...  £14.02  In stock   \n",
       "4      Layered: Baking, Building, and ...  £40.11  In stock   \n",
       "5         The Nerdy Nummies Cookbook: ...  £37.34  In stock   \n",
       "6                 The Love and Lemons ...  £37.60  In stock   \n",
       "7                  The Cookies & Cups ...  £41.25  In stock   \n",
       "8         Deliciously Ella Every Day: ...  £42.16  In stock   \n",
       "9          The Help Yourself Cookbook ...  £28.77  In stock   \n",
       "10            It's All Easy: Healthy, ...  £19.55  In stock   \n",
       "11          Barefoot Contessa Back to ...  £28.01  In stock   \n",
       "12         Barefoot Contessa at Home: ...  £50.62  In stock   \n",
       "13               My Kitchen Year: 136 ...  £11.53  In stock   \n",
       "14       Everyday Italian: 125 Simple ...  £20.10  In stock   \n",
       "15                     A la Mode: 120 ...  £38.77  In stock   \n",
       "16         Cravings: Recipes for What ...  £20.50  In stock   \n",
       "17    The Moosewood Cookbook: Recipes ...  £12.34  In stock   \n",
       "18                               32 Yolks  £53.63  In stock   \n",
       "19     Naturally Lean: 125 Nourishing ...  £11.38  In stock   \n",
       "20             How to Cook Everything ...  £46.01  In stock   \n",
       "21                        How to Be a ...  £28.25  In stock   \n",
       "22         The Barefoot Contessa Cookbook  £59.92  In stock   \n",
       "23           Better Homes and Gardens ...  £39.61  In stock   \n",
       "24         The Power Greens Cookbook: ...  £11.05  In stock   \n",
       "25             Mexican Today: New and ...  £24.91  In stock   \n",
       "26  Vegan Vegetarian Omnivore: Dinner ...  £13.66  In stock   \n",
       "27           The Smitten Kitchen Cookbook  £23.59  In stock   \n",
       "28                  The Art of Simple ...  £34.32  In stock   \n",
       "29                Hungry Girl Clean & ...  £33.14  In stock   \n",
       "\n",
       "                                                    3       4  \n",
       "0   http://books.toscrape.com//media/cache/9f/59/9...   Three  \n",
       "1   http://books.toscrape.com//media/cache/b7/f4/b...     One  \n",
       "2   http://books.toscrape.com//media/cache/f5/65/f...     Two  \n",
       "3   http://books.toscrape.com//media/cache/10/c6/1...    Four  \n",
       "4   http://books.toscrape.com//media/cache/98/d1/9...     One  \n",
       "5   http://books.toscrape.com//media/cache/61/bd/6...    Five  \n",
       "6   http://books.toscrape.com//media/cache/0d/1f/0...     Two  \n",
       "7   http://books.toscrape.com//media/cache/54/89/5...     One  \n",
       "8   http://books.toscrape.com//media/cache/20/f2/2...   Three  \n",
       "9   http://books.toscrape.com//media/cache/c4/dc/c...   Three  \n",
       "10  http://books.toscrape.com//media/cache/fe/67/f...     One  \n",
       "11  http://books.toscrape.com//media/cache/b8/38/b...     One  \n",
       "12  http://books.toscrape.com//media/cache/74/aa/7...    Five  \n",
       "13  http://books.toscrape.com//media/cache/76/a1/7...     Two  \n",
       "14  http://books.toscrape.com//media/cache/5a/64/5...    Five  \n",
       "15  http://books.toscrape.com//media/cache/98/19/9...     One  \n",
       "16  http://books.toscrape.com//media/cache/ae/5c/a...   Three  \n",
       "17  http://books.toscrape.com//media/cache/d4/53/d...    Four  \n",
       "18  http://books.toscrape.com//media/cache/1d/1f/1...     Two  \n",
       "19  http://books.toscrape.com//media/cache/e6/b6/e...    Five  \n",
       "20  http://books.toscrape.com//media/cache/59/2d/5...    Four  \n",
       "21  http://books.toscrape.com//media/cache/e2/5c/e...     Two  \n",
       "22  http://books.toscrape.com//media/cache/dd/07/d...    Five  \n",
       "23  http://books.toscrape.com//media/cache/75/82/7...   Three  \n",
       "24  http://books.toscrape.com//media/cache/82/1d/8...    Five  \n",
       "25  http://books.toscrape.com//media/cache/5d/02/5...    Five  \n",
       "26  http://books.toscrape.com//media/cache/80/63/8...     Two  \n",
       "27  http://books.toscrape.com//media/cache/8e/09/8...     One  \n",
       "28  http://books.toscrape.com//media/cache/96/57/9...   Three  \n",
       "29  http://books.toscrape.com//media/cache/6f/c4/6...   Three  "
      ],
      "text/html": "<div>\n<style scoped>\n    .dataframe tbody tr th:only-of-type {\n        vertical-align: middle;\n    }\n\n    .dataframe tbody tr th {\n        vertical-align: top;\n    }\n\n    .dataframe thead th {\n        text-align: right;\n    }\n</style>\n<table border=\"1\" class=\"dataframe\">\n  <thead>\n    <tr style=\"text-align: right;\">\n      <th></th>\n      <th>0</th>\n      <th>1</th>\n      <th>2</th>\n      <th>3</th>\n      <th>4</th>\n    </tr>\n  </thead>\n  <tbody>\n    <tr>\n      <th>0</th>\n      <td>Foolproof Preserving: A Guide ...</td>\n      <td>£30.52</td>\n      <td>In stock</td>\n      <td>http://books.toscrape.com//media/cache/9f/59/9...</td>\n      <td>Three</td>\n    </tr>\n    <tr>\n      <th>1</th>\n      <td>The Pioneer Woman Cooks: ...</td>\n      <td>£56.41</td>\n      <td>In stock</td>\n      <td>http://books.toscrape.com//media/cache/b7/f4/b...</td>\n      <td>One</td>\n    </tr>\n    <tr>\n      <th>2</th>\n      <td>My Paris Kitchen: Recipes ...</td>\n      <td>£33.37</td>\n      <td>In stock</td>\n      <td>http://books.toscrape.com//media/cache/f5/65/f...</td>\n      <td>Two</td>\n    </tr>\n    <tr>\n      <th>3</th>\n      <td>Mama Tried: Traditional Italian ...</td>\n      <td>£14.02</td>\n      <td>In stock</td>\n      <td>http://books.toscrape.com//media/cache/10/c6/1...</td>\n      <td>Four</td>\n    </tr>\n    <tr>\n      <th>4</th>\n      <td>Layered: Baking, Building, and ...</td>\n      <td>£40.11</td>\n      <td>In stock</td>\n      <td>http://books.toscrape.com//media/cache/98/d1/9...</td>\n      <td>One</td>\n    </tr>\n    <tr>\n      <th>5</th>\n      <td>The Nerdy Nummies Cookbook: ...</td>\n      <td>£37.34</td>\n      <td>In stock</td>\n      <td>http://books.toscrape.com//media/cache/61/bd/6...</td>\n      <td>Five</td>\n    </tr>\n    <tr>\n      <th>6</th>\n      <td>The Love and Lemons ...</td>\n      <td>£37.60</td>\n      <td>In stock</td>\n      <td>http://books.toscrape.com//media/cache/0d/1f/0...</td>\n      <td>Two</td>\n    </tr>\n    <tr>\n      <th>7</th>\n      <td>The Cookies &amp; Cups ...</td>\n      <td>£41.25</td>\n      <td>In stock</td>\n      <td>http://books.toscrape.com//media/cache/54/89/5...</td>\n      <td>One</td>\n    </tr>\n    <tr>\n      <th>8</th>\n      <td>Deliciously Ella Every Day: ...</td>\n      <td>£42.16</td>\n      <td>In stock</td>\n      <td>http://books.toscrape.com//media/cache/20/f2/2...</td>\n      <td>Three</td>\n    </tr>\n    <tr>\n      <th>9</th>\n      <td>The Help Yourself Cookbook ...</td>\n      <td>£28.77</td>\n      <td>In stock</td>\n      <td>http://books.toscrape.com//media/cache/c4/dc/c...</td>\n      <td>Three</td>\n    </tr>\n    <tr>\n      <th>10</th>\n      <td>It's All Easy: Healthy, ...</td>\n      <td>£19.55</td>\n      <td>In stock</td>\n      <td>http://books.toscrape.com//media/cache/fe/67/f...</td>\n      <td>One</td>\n    </tr>\n    <tr>\n      <th>11</th>\n      <td>Barefoot Contessa Back to ...</td>\n      <td>£28.01</td>\n      <td>In stock</td>\n      <td>http://books.toscrape.com//media/cache/b8/38/b...</td>\n      <td>One</td>\n    </tr>\n    <tr>\n      <th>12</th>\n      <td>Barefoot Contessa at Home: ...</td>\n      <td>£50.62</td>\n      <td>In stock</td>\n      <td>http://books.toscrape.com//media/cache/74/aa/7...</td>\n      <td>Five</td>\n    </tr>\n    <tr>\n      <th>13</th>\n      <td>My Kitchen Year: 136 ...</td>\n      <td>£11.53</td>\n      <td>In stock</td>\n      <td>http://books.toscrape.com//media/cache/76/a1/7...</td>\n      <td>Two</td>\n    </tr>\n    <tr>\n      <th>14</th>\n      <td>Everyday Italian: 125 Simple ...</td>\n      <td>£20.10</td>\n      <td>In stock</td>\n      <td>http://books.toscrape.com//media/cache/5a/64/5...</td>\n      <td>Five</td>\n    </tr>\n    <tr>\n      <th>15</th>\n      <td>A la Mode: 120 ...</td>\n      <td>£38.77</td>\n      <td>In stock</td>\n      <td>http://books.toscrape.com//media/cache/98/19/9...</td>\n      <td>One</td>\n    </tr>\n    <tr>\n      <th>16</th>\n      <td>Cravings: Recipes for What ...</td>\n      <td>£20.50</td>\n      <td>In stock</td>\n      <td>http://books.toscrape.com//media/cache/ae/5c/a...</td>\n      <td>Three</td>\n    </tr>\n    <tr>\n      <th>17</th>\n      <td>The Moosewood Cookbook: Recipes ...</td>\n      <td>£12.34</td>\n      <td>In stock</td>\n      <td>http://books.toscrape.com//media/cache/d4/53/d...</td>\n      <td>Four</td>\n    </tr>\n    <tr>\n      <th>18</th>\n      <td>32 Yolks</td>\n      <td>£53.63</td>\n      <td>In stock</td>\n      <td>http://books.toscrape.com//media/cache/1d/1f/1...</td>\n      <td>Two</td>\n    </tr>\n    <tr>\n      <th>19</th>\n      <td>Naturally Lean: 125 Nourishing ...</td>\n      <td>£11.38</td>\n      <td>In stock</td>\n      <td>http://books.toscrape.com//media/cache/e6/b6/e...</td>\n      <td>Five</td>\n    </tr>\n    <tr>\n      <th>20</th>\n      <td>How to Cook Everything ...</td>\n      <td>£46.01</td>\n      <td>In stock</td>\n      <td>http://books.toscrape.com//media/cache/59/2d/5...</td>\n      <td>Four</td>\n    </tr>\n    <tr>\n      <th>21</th>\n      <td>How to Be a ...</td>\n      <td>£28.25</td>\n      <td>In stock</td>\n      <td>http://books.toscrape.com//media/cache/e2/5c/e...</td>\n      <td>Two</td>\n    </tr>\n    <tr>\n      <th>22</th>\n      <td>The Barefoot Contessa Cookbook</td>\n      <td>£59.92</td>\n      <td>In stock</td>\n      <td>http://books.toscrape.com//media/cache/dd/07/d...</td>\n      <td>Five</td>\n    </tr>\n    <tr>\n      <th>23</th>\n      <td>Better Homes and Gardens ...</td>\n      <td>£39.61</td>\n      <td>In stock</td>\n      <td>http://books.toscrape.com//media/cache/75/82/7...</td>\n      <td>Three</td>\n    </tr>\n    <tr>\n      <th>24</th>\n      <td>The Power Greens Cookbook: ...</td>\n      <td>£11.05</td>\n      <td>In stock</td>\n      <td>http://books.toscrape.com//media/cache/82/1d/8...</td>\n      <td>Five</td>\n    </tr>\n    <tr>\n      <th>25</th>\n      <td>Mexican Today: New and ...</td>\n      <td>£24.91</td>\n      <td>In stock</td>\n      <td>http://books.toscrape.com//media/cache/5d/02/5...</td>\n      <td>Five</td>\n    </tr>\n    <tr>\n      <th>26</th>\n      <td>Vegan Vegetarian Omnivore: Dinner ...</td>\n      <td>£13.66</td>\n      <td>In stock</td>\n      <td>http://books.toscrape.com//media/cache/80/63/8...</td>\n      <td>Two</td>\n    </tr>\n    <tr>\n      <th>27</th>\n      <td>The Smitten Kitchen Cookbook</td>\n      <td>£23.59</td>\n      <td>In stock</td>\n      <td>http://books.toscrape.com//media/cache/8e/09/8...</td>\n      <td>One</td>\n    </tr>\n    <tr>\n      <th>28</th>\n      <td>The Art of Simple ...</td>\n      <td>£34.32</td>\n      <td>In stock</td>\n      <td>http://books.toscrape.com//media/cache/96/57/9...</td>\n      <td>Three</td>\n    </tr>\n    <tr>\n      <th>29</th>\n      <td>Hungry Girl Clean &amp; ...</td>\n      <td>£33.14</td>\n      <td>In stock</td>\n      <td>http://books.toscrape.com//media/cache/6f/c4/6...</td>\n      <td>Three</td>\n    </tr>\n  </tbody>\n</table>\n</div>"
     },
     "metadata": {},
     "execution_count": 31
    }
   ],
   "source": [
    "df"
   ]
  },
  {
   "cell_type": "code",
   "execution_count": null,
   "metadata": {},
   "outputs": [],
   "source": []
  }
 ]
}